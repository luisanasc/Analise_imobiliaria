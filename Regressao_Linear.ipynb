{
 "cells": [
  {
   "cell_type": "markdown",
   "id": "1ee0317c",
   "metadata": {},
   "source": [
    "# CODIGO PARA REGRESSÃO LINEAR SIMPLES"
   ]
  },
  {
   "cell_type": "code",
   "execution_count": null,
   "id": "a9a798c7",
   "metadata": {},
   "outputs": [],
   "source": [
    "import pandas as pd"
   ]
  },
  {
   "cell_type": "code",
   "execution_count": null,
   "id": "8a51b00d",
   "metadata": {},
   "outputs": [],
   "source": [
    "dados_imoveis = pd.read_csv(r\"C:\\Users\\marco\\OneDrive\\Ceub\\Pós - Ciências\\Aulas v4\\Dia 2\\imoveis.csv\", engine='python', sep=';', decimal=\",\")\n",
    "display(dados_imoveis)"
   ]
  },
  {
   "cell_type": "markdown",
   "id": "68536705",
   "metadata": {},
   "source": [
    "#### VAMOS PLOTAR O CONJUNTO DE DADOS PARA VISUALIZÁ-LOS"
   ]
  },
  {
   "cell_type": "code",
   "execution_count": null,
   "id": "9d75975a",
   "metadata": {},
   "outputs": [],
   "source": [
    "import matplotlib.pyplot as plt\n",
    "plt.scatter(dados_imoveis['area'], dados_imoveis['valor por m2'])\n",
    "plt.xlabel(\"área (m²)\")\n",
    "plt.ylabel(\"valor unitário (R$/m²)\")\n",
    "plt.show()"
   ]
  },
  {
   "cell_type": "markdown",
   "id": "60f06a43",
   "metadata": {},
   "source": [
    "#### O MÉTODO DO CÁLCULO DA RETA DE MELHOR AJUSTE É O MÉTODO DOS MINÍMOS QUADRADOS ORDINÁRIOS"
   ]
  },
  {
   "cell_type": "code",
   "execution_count": null,
   "id": "1c53aa10",
   "metadata": {},
   "outputs": [],
   "source": [
    "media_X = dados_imoveis['area'].mean()\n",
    "media_X"
   ]
  },
  {
   "cell_type": "code",
   "execution_count": null,
   "id": "c7c07dfc",
   "metadata": {},
   "outputs": [],
   "source": [
    "media_Y = dados_imoveis['valor por m2'].mean()\n",
    "media_Y"
   ]
  },
  {
   "cell_type": "markdown",
   "id": "7ce6b96d",
   "metadata": {},
   "source": [
    "#### CALCULAMOS A VARIANCIA DA VARIÁVEL X E A COVARIÂNCIA ENTRE X E Y"
   ]
  },
  {
   "cell_type": "code",
   "execution_count": null,
   "id": "a63fe9d1",
   "metadata": {},
   "outputs": [],
   "source": [
    "import numpy as np\n",
    "#ddof é degrees of freedom, e serve para o cálculo da variância amostral\n",
    "variancia_X = np.var(dados_imoveis['area'],ddof=1)\n",
    "variancia_X"
   ]
  },
  {
   "cell_type": "code",
   "execution_count": null,
   "id": "dd4cee25",
   "metadata": {},
   "outputs": [],
   "source": [
    "covariancia_XY = np.cov(dados_imoveis['area'], dados_imoveis['valor por m2'])\n",
    "covariancia_XY[0][1]"
   ]
  },
  {
   "cell_type": "code",
   "execution_count": null,
   "id": "d05a569a",
   "metadata": {},
   "outputs": [],
   "source": [
    "#calcular o coeficiente de correlação de pearson\n",
    "r = # descobrir o comando\n",
    "r #qual é o significado da resposta?"
   ]
  },
  {
   "cell_type": "code",
   "execution_count": null,
   "id": "bd6321ad",
   "metadata": {},
   "outputs": [],
   "source": [
    "#calcular o coeficiente de determinação R²\n",
    "#qual é o significado de R²?\n",
    "R2 = "
   ]
  },
  {
   "cell_type": "markdown",
   "id": "3dd9cd88",
   "metadata": {},
   "source": [
    "#### O COEFICIENTE ANGULAR DA RETA É CALCULADO PELA RAZÃO DA COVARIANCIA E A VARIÂNCIA"
   ]
  },
  {
   "cell_type": "code",
   "execution_count": null,
   "id": "28a4b7e2",
   "metadata": {},
   "outputs": [],
   "source": [
    "a = covariancia_XY[0][1]/variancia_X\n",
    "a"
   ]
  },
  {
   "cell_type": "markdown",
   "id": "f6f59806",
   "metadata": {},
   "source": [
    "#### O COEFICIENTE LINEAR DA RETA, É (MÉDIA DE Y) - A * MÉDIA DE X"
   ]
  },
  {
   "cell_type": "code",
   "execution_count": null,
   "id": "f6bdbdd5",
   "metadata": {},
   "outputs": [],
   "source": [
    "b = media_Y - a*media_X\n",
    "b"
   ]
  },
  {
   "cell_type": "markdown",
   "id": "5780d4b7",
   "metadata": {},
   "source": [
    "#### Para plotar o gráfico, vamos definir os valores máximos e mínimos do eixo x"
   ]
  },
  {
   "cell_type": "code",
   "execution_count": null,
   "id": "e9d5021c",
   "metadata": {},
   "outputs": [],
   "source": [
    "minimo = dados_imoveis['area'].min()\n",
    "minimo"
   ]
  },
  {
   "cell_type": "code",
   "execution_count": null,
   "id": "7c29c313",
   "metadata": {},
   "outputs": [],
   "source": [
    "maximo = dados_imoveis['area'].max()\n",
    "maximo"
   ]
  },
  {
   "cell_type": "code",
   "execution_count": null,
   "id": "ff77e318",
   "metadata": {},
   "outputs": [],
   "source": [
    "plt.scatter(dados_imoveis['area'], dados_imoveis['valor por m2'])\n",
    "x = np.linspace(0.99*minimo,1.01*maximo,100)\n",
    "y = a*x+b\n",
    "plt.xlabel(\"área (m²)\")\n",
    "plt.ylabel(\"valor unitário (R$/m²)\")\n",
    "plt.plot(x, y, '-r') \n",
    "plt.show()"
   ]
  },
  {
   "cell_type": "code",
   "execution_count": null,
   "id": "5e2f5d30",
   "metadata": {},
   "outputs": [],
   "source": [
    "print(\"A equação de ajuste da regressão linear é \\n y = {:.2f}\".format(a),\"+ {:.2f}\".format(b))"
   ]
  },
  {
   "cell_type": "code",
   "execution_count": null,
   "id": "3bf132b8",
   "metadata": {},
   "outputs": [],
   "source": []
  }
 ],
 "metadata": {
  "kernelspec": {
   "display_name": "Python 3 (ipykernel)",
   "language": "python",
   "name": "python3"
  },
  "language_info": {
   "codemirror_mode": {
    "name": "ipython",
    "version": 3
   },
   "file_extension": ".py",
   "mimetype": "text/x-python",
   "name": "python",
   "nbconvert_exporter": "python",
   "pygments_lexer": "ipython3",
   "version": "3.12.4"
  }
 },
 "nbformat": 4,
 "nbformat_minor": 5
}
